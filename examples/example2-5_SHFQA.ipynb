{
 "cells": [
  {
   "cell_type": "markdown",
   "metadata": {},
   "source": [
    "# SHFQA"
   ]
  },
  {
   "cell_type": "markdown",
   "metadata": {},
   "source": [
    "Just like the driver for the HDAWG in the previous example, we now use the `tk.SHFQA` instrument driver."
   ]
  },
  {
   "cell_type": "code",
   "execution_count": 1,
   "metadata": {
    "ExecuteTime": {
     "end_time": "2021-09-28T14:27:14.206481Z",
     "start_time": "2021-09-28T14:27:05.350621Z"
    },
    "scrolled": true
   },
   "outputs": [
    {
     "name": "stdout",
     "output_type": "stream",
     "text": [
      "Successfully connected to data server at localhost:8004 api version: 6\n",
      "Successfully connected to device DEV12036 on interface 1GBE\n"
     ]
    }
   ],
   "source": [
    "import zhinst.toolkit as tk\n",
    "\n",
    "shfqa = tk.SHFQA(\"shfqa\", \"dev12036\", interface=\"1gbe\", host=\"localhost\")\n",
    "shfqa.setup()           # set up data server connection\n",
    "shfqa.connect_device()  # connect device to data server"
   ]
  },
  {
   "cell_type": "markdown",
   "metadata": {
    "ExecuteTime": {
     "end_time": "2021-09-28T06:20:53.593684Z",
     "start_time": "2021-09-28T06:20:53.585714Z"
    }
   },
   "source": [
    "## Channel parameters of the SHFQA\n",
    "\n",
    "SHFQA has 2 or 4 channels, each of them can serve for a single readout line. Each QAchannel module can readout up to 8 or 16 quits."
   ]
  },
  {
   "cell_type": "code",
   "execution_count": 2,
   "metadata": {
    "ExecuteTime": {
     "end_time": "2021-09-28T14:27:16.965250Z",
     "start_time": "2021-09-28T14:27:16.945126Z"
    }
   },
   "outputs": [
    {
     "data": {
      "text/plain": [
       "<zhinst.toolkit.control.drivers.shfqa.QAChannel at 0x1ec3b0d0d48>"
      ]
     },
     "execution_count": 2,
     "metadata": {},
     "output_type": "execute_result"
    }
   ],
   "source": [
    "shfqa.qachannels[0]"
   ]
  },
  {
   "cell_type": "code",
   "execution_count": 3,
   "metadata": {
    "ExecuteTime": {
     "end_time": "2021-09-28T14:27:18.073212Z",
     "start_time": "2021-09-28T14:27:18.003011Z"
    }
   },
   "outputs": [],
   "source": [
    "shfqa.qachannels[0].input_range(0)\n",
    "shfqa.qachannels[0].output_range(-15)\n",
    "shfqa.qachannels[0].center_freq(5e9)\n",
    "shfqa.qachannels[0].input('on')\n",
    "shfqa.qachannels[0].output('on')"
   ]
  },
  {
   "cell_type": "markdown",
   "metadata": {},
   "source": [
    "## Spectroscopy mode of the SHFQA\n",
    "SHFQA has two application modes, **Spectroscopy** and **Readout**. Spectroscopy mode is generally used for resonator spectroscopy experiments, and Readout mode is used for qubit readout experiments with fixed readout frequencies. \n",
    "\n",
    "In Spectroscopy mode, offset frequency sweep is done by the **sweeper** module. Each frequency sweep is triggered by an internal or external trigger. External trigger is recommended. With **shfqa.set_trigger_loopback()** a marker output is connected to a trigger input internally without any physical connections. "
   ]
  },
  {
   "cell_type": "code",
   "execution_count": 4,
   "metadata": {
    "ExecuteTime": {
     "end_time": "2021-09-28T14:27:54.381576Z",
     "start_time": "2021-09-28T14:27:54.374613Z"
    }
   },
   "outputs": [
    {
     "data": {
      "text/plain": [
       "<zhinst.toolkit.control.drivers.shfqa.Sweeper at 0x1ec422d92c8>"
      ]
     },
     "execution_count": 4,
     "metadata": {},
     "output_type": "execute_result"
    }
   ],
   "source": [
    "shfqa.qachannels[0].sweeper"
   ]
  },
  {
   "cell_type": "code",
   "execution_count": 5,
   "metadata": {
    "ExecuteTime": {
     "end_time": "2021-09-28T14:27:58.914104Z",
     "start_time": "2021-09-28T14:27:56.331727Z"
    }
   },
   "outputs": [],
   "source": [
    "shfqa.qachannels[0].mode('spectroscopy')\n",
    "sweeper0=shfqa.qachannels[0].sweeper\n",
    "\n",
    "shfqa.set_trigger_loopback()\n",
    "sweeper0.trigger_source(\"channel0_trigger_input0\")\n",
    "sweeper0.trigger_level(0)\n",
    "sweeper0.trigger_imp50(1)\n",
    "\n",
    "sweeper0.start_frequency(-200e-6)\n",
    "sweeper0.stop_frequency(200e6)\n",
    "sweeper0.num_points(51)\n",
    "sweeper0.mapping(\"linear\")\n",
    "sweeper0.integration_time(100e-6)\n",
    "sweeper0.num_averages(2)\n",
    "sweeper0.averaging_mode(\"sequential\")\n",
    "# print(sweeper0.mapping.__doc__)"
   ]
  },
  {
   "cell_type": "code",
   "execution_count": 6,
   "metadata": {
    "ExecuteTime": {
     "end_time": "2021-09-28T14:28:27.771199Z",
     "start_time": "2021-09-28T14:28:00.991591Z"
    }
   },
   "outputs": [
    {
     "name": "stdout",
     "output_type": "stream",
     "text": [
      "Run a sweep with 51 frequency points in the range of [-2e-10, 200.0] MHz + 5.0 GHz. \n",
      "Mapping is linear. \n",
      "Integration time = 0.0001 sec. \n",
      "Measures 2 times per frequency point. \n",
      "Averaging mode is sequential.\n",
      "Measurement (2/2) at 200.000MHz.                    \r"
     ]
    }
   ],
   "source": [
    "sweeper0.run()\n",
    "result=sweeper0.read()\n",
    "# sweeper0.plot()"
   ]
  },
  {
   "cell_type": "markdown",
   "metadata": {},
   "source": [
    "## Readout mode of the SHFQA\n",
    "In Readout mode, **generator** module is used to configure waveform playback, such as upload waveforms, construct and compile readout sequences. Integration parameters and result source are configured by **readout**. Please note that the data type of uploaded waveforms has to be **complex128**."
   ]
  },
  {
   "cell_type": "code",
   "execution_count": 7,
   "metadata": {
    "ExecuteTime": {
     "end_time": "2021-09-28T14:28:30.356218Z",
     "start_time": "2021-09-28T14:28:30.344211Z"
    }
   },
   "outputs": [],
   "source": [
    "shfqa.qachannels[0].mode('readout')\n",
    "generator0 = shfqa.qachannels[0].generator\n",
    "readout0 = shfqa.qachannels[0].readout"
   ]
  },
  {
   "cell_type": "code",
   "execution_count": 8,
   "metadata": {
    "ExecuteTime": {
     "end_time": "2021-09-28T14:29:02.693539Z",
     "start_time": "2021-09-28T14:28:58.861769Z"
    }
   },
   "outputs": [
    {
     "name": "stdout",
     "output_type": "stream",
     "text": [
      "Current length of queue: 1\n",
      "Upload of 1 waveforms took 0.174 s\n"
     ]
    }
   ],
   "source": [
    "num_readouts = 100\n",
    "pulse_duration = 100e-9\n",
    "readout_freq = 200e6\n",
    "sampling_rate = 2e9\n",
    "\n",
    "pulse = 0.5*np.exp(2j*np.pi*readout_freq*np.linspace(0, pulse_duration, int(pulse_duration * sampling_rate)))\n",
    "weight = np.conj(pulse)\n",
    "\n",
    "shfqa.set_trigger_loopback()\n",
    "generator0.dig_trigger1_source(\"chan0trigin0\")\n",
    "# Delay between receving the trigger and playing the readout pulses\n",
    "generator0.playback_delay(0) \n",
    "\n",
    "#Define the program\n",
    "seqc_program =\"\"\"\n",
    "repeat($param1$) {\n",
    "    waitDigTrigger(1);\n",
    "    startQA(QA_GEN_ALL, QA_INT_ALL, true, 0, 0x0);\n",
    "}    \n",
    "\"\"\"\n",
    "generator0.set_sequence_params(\n",
    "    sequence_type=\"Custom\",\n",
    "    program = seqc_program ,\n",
    "    custom_params = [num_readouts],\n",
    ")\n",
    "\n",
    "# Upload readout pulse and integration weight\n",
    "generator0.reset_queue()\n",
    "generator0.queue_waveform(pulse)\n",
    "\n",
    "generator0.compile()\n",
    "generator0.upload_waveforms()\n",
    "readout0.integrations[0].set_int_weights(weight)"
   ]
  },
  {
   "cell_type": "code",
   "execution_count": 9,
   "metadata": {
    "ExecuteTime": {
     "end_time": "2021-09-28T14:29:09.238613Z",
     "start_time": "2021-09-28T14:29:06.123649Z"
    }
   },
   "outputs": [],
   "source": [
    "setup_delay = 200e-9\n",
    "\n",
    "readout0.integration_length(len(weight))\n",
    "readout0.integration_delay(setup_delay)\n",
    "readout0.result_source(\"result_of_integration\")\n",
    "    \n",
    "readout0.arm(length = num_readouts, averages = 1)\n",
    "generator0.stop()\n",
    "generator0.run()\n",
    "    \n",
    "result = readout0.read()"
   ]
  },
  {
   "cell_type": "markdown",
   "metadata": {},
   "source": [
    "## Scope monitor of the SHFQA\n",
    "\n",
    "The **scope** module of the SHFQA is used to monitor or record time traces of signals at IF frequency down converted by the SHFQA. "
   ]
  },
  {
   "cell_type": "code",
   "execution_count": 10,
   "metadata": {
    "ExecuteTime": {
     "end_time": "2021-09-28T14:29:21.503094Z",
     "start_time": "2021-09-28T14:29:19.725665Z"
    }
   },
   "outputs": [],
   "source": [
    "scope=shfqa.scope\n",
    "scope.channel1('on')\n",
    "scope.input_select1\n",
    "scope.trigger_source(\"channel0_trigger_input0\")\n",
    "scope.trigger_delay(200e-9)\n",
    "scope.length(1024)\n",
    "scope.averaging(1)\n",
    "scope.segments(1)\n",
    "scope.run()\n",
    "result=scope.read()\n",
    "# scope.stop()"
   ]
  },
  {
   "cell_type": "markdown",
   "metadata": {},
   "source": [
    "## DIO of the SHFQA\n",
    "The **dios** of the SHFQA is used to communicate qubit readout results from SHFQA to qubit control instruments, such as SHFSG or HDAWG."
   ]
  },
  {
   "cell_type": "code",
   "execution_count": 11,
   "metadata": {
    "ExecuteTime": {
     "end_time": "2021-09-28T14:29:27.731934Z",
     "start_time": "2021-09-28T14:29:27.722933Z"
    }
   },
   "outputs": [
    {
     "data": {
      "text/plain": [
       "<zhinst.toolkit.control.node_tree.Node object at 0x000001EC41E60D88>\n",
       "nodes:\n",
       "parameters:\n",
       " - drive\n",
       " - output\n",
       " - mode\n",
       " - input\n",
       " - interface"
      ]
     },
     "execution_count": 11,
     "metadata": {},
     "output_type": "execute_result"
    }
   ],
   "source": [
    "shfqa.nodetree.dio"
   ]
  }
 ],
 "metadata": {
  "kernelspec": {
   "display_name": "Python 3",
   "language": "python",
   "name": "python3"
  },
  "language_info": {
   "codemirror_mode": {
    "name": "ipython",
    "version": 3
   },
   "file_extension": ".py",
   "mimetype": "text/x-python",
   "name": "python",
   "nbconvert_exporter": "python",
   "pygments_lexer": "ipython3",
   "version": "3.7.10"
  },
  "latex_envs": {
   "LaTeX_envs_menu_present": true,
   "autoclose": true,
   "autocomplete": true,
   "bibliofile": "biblio.bib",
   "cite_by": "apalike",
   "current_citInitial": 1,
   "eqLabelWithNumbers": true,
   "eqNumInitial": 1,
   "hotkeys": {
    "equation": "Ctrl-E",
    "itemize": "Ctrl-I"
   },
   "labels_anchors": false,
   "latex_user_defs": false,
   "report_style_numbering": false,
   "user_envs_cfg": false
  },
  "toc": {
   "base_numbering": 1,
   "nav_menu": {},
   "number_sections": true,
   "sideBar": true,
   "skip_h1_title": false,
   "title_cell": "Table of Contents",
   "title_sidebar": "Contents",
   "toc_cell": false,
   "toc_position": {},
   "toc_section_display": true,
   "toc_window_display": false
  },
  "varInspector": {
   "cols": {
    "lenName": 16,
    "lenType": 16,
    "lenVar": 40
   },
   "kernels_config": {
    "python": {
     "delete_cmd_postfix": "",
     "delete_cmd_prefix": "del ",
     "library": "var_list.py",
     "varRefreshCmd": "print(var_dic_list())"
    },
    "r": {
     "delete_cmd_postfix": ") ",
     "delete_cmd_prefix": "rm(",
     "library": "var_list.r",
     "varRefreshCmd": "cat(var_dic_list()) "
    }
   },
   "types_to_exclude": [
    "module",
    "function",
    "builtin_function_or_method",
    "instance",
    "_Feature"
   ],
   "window_display": false
  }
 },
 "nbformat": 4,
 "nbformat_minor": 4
}
